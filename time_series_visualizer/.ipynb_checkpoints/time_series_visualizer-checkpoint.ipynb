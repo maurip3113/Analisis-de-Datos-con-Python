{
 "cells": [
  {
   "cell_type": "code",
   "execution_count": null,
   "metadata": {},
   "outputs": [
    {
     "ename": "",
     "evalue": "",
     "output_type": "error",
     "traceback": [
      "\u001b[1;31mFailed to start the Kernel. \n",
      "\u001b[1;31mBad file descriptor (C:\\Users\\runneradmin\\AppData\\Local\\Temp\\tmpkywtyyea\\build\\_deps\\bundled_libzmq-src\\src\\epoll.cpp:73). \n",
      "\u001b[1;31mView Jupyter <a href='command:jupyter.viewOutput'>log</a> for further details."
     ]
    }
   ],
   "source": [
    "import matplotlib.pyplot as plt \n",
    "import pandas as pd \n",
    "import seaborn as sns \n",
    "from pandas.plotting import register_matplotlib_converters \n",
    "register_matplotlib_converters()\n",
    "\n",
    "# Import data (Make sure to parse dates. Consider setting index column to 'date'.)\n",
    "df = pd.read_csv('fcc-forum-pageviews.csv', parse_dates=['date'], index_col='date')\n",
    "\n",
    "# Clean data\n",
    "s = df['value'].quantile(0.975)\n",
    "p = df['value'].quantile(0.025)\n",
    "\n",
    "print(p)\n",
    "print(s)\n",
    "\n",
    "\n",
    "df = df[(df['value'] > s) | (df['value'] < p)]\n",
    "\n",
    "print(df)\n",
    "\n",
    "# Draw line plot\n",
    "\n",
    "df_2 = pd.read_csv('fcc-forum-pageviews.csv', parse_dates=['date'], index_col='date')\n",
    "\n",
    "def draw_line_plot():\n",
    "\n",
    "    fig = plt.figure(figsize=(14,8))\n",
    "\n",
    "    plt.plot(df_2.index, df_2['value'], color='red', linewidth=1)\n",
    "\n",
    "    plt.xlabel('Date')\n",
    "    plt.ylabel('Page Views')\n",
    "\n",
    "    plt.ticklabel_format(axis='y', style='plain')\n",
    "\n",
    "    plt.title('Daily freeCodeCamp Forum Page Views 5/2016-12/2019')\n",
    "\n",
    "    # Save image and return fig (don't change this part)\n",
    "    fig.savefig('line_plot.png')\n",
    "    return fig\n",
    "\n",
    "draw_line_plot()\n",
    "\n",
    "def draw_bar_plot():\n",
    "    # Copy and modify data for monthly bar plot\n",
    "    df_bar = df_2.copy()\n",
    "    df_bar.reset_index(inplace=True)\n",
    "    df_bar['year'] = [d.year for d in df_bar.date] \n",
    "    df_bar['month'] = [d.strftime('%b') for d in df_bar.date] \n",
    "\n",
    "    df_bar = df_bar.groupby(['year', 'month'])['value'].mean().unstack()\n",
    "\n",
    "    # Draw bar plot\n",
    "\n",
    "    fig = df_bar.plot(kind='bar', figsize=(14,8)).figure\n",
    "    plt.xlabel('Years')\n",
    "    plt.ylabel('Average Page Views')\n",
    "    plt.legend(title='Months', labels=['January', 'February', 'March', 'April', 'May', 'June', 'July', 'August', 'September', 'October', 'November', 'December'])\n",
    "\n",
    "\n",
    "\n",
    "\n",
    "    # Save image and return fig (don't change this part)\n",
    "    fig.savefig('bar_plot.png')\n",
    "    return fig\n",
    "\n",
    "draw_bar_plot()\n",
    "\n",
    "def draw_box_plot():\n",
    "    # Prepare data for box plots (this part is done!)\n",
    "\n",
    "    # Save image and return fig (don't change this part)\n",
    "    fig.savefig('box_plot.png')\n",
    "    return fig\n",
    "\n",
    "#draw_box_plot()\n"
   ]
  },
  {
   "cell_type": "code",
   "execution_count": null,
   "metadata": {},
   "outputs": [],
   "source": []
  }
 ],
 "metadata": {
  "kernelspec": {
   "display_name": "Python 3",
   "language": "python",
   "name": "python3"
  },
  "language_info": {
   "codemirror_mode": {
    "name": "ipython",
    "version": 3
   },
   "file_extension": ".py",
   "mimetype": "text/x-python",
   "name": "python",
   "nbconvert_exporter": "python",
   "pygments_lexer": "ipython3",
   "version": "3.12.4"
  }
 },
 "nbformat": 4,
 "nbformat_minor": 2
}
