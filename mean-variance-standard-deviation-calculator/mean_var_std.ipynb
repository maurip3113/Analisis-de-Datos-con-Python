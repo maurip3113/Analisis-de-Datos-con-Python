{
 "cells": [
  {
   "cell_type": "code",
   "execution_count": 11,
   "id": "f2c898e2-380e-429a-8ad5-421c6f16e6c2",
   "metadata": {},
   "outputs": [
    {
     "name": "stdout",
     "output_type": "stream",
     "text": [
      "{'mean': [[3.0, 4.0, 5.0], [1.0, 4.0, 7.0], 4.0], 'variance': [[6.0, 6.0, 6.0], [0.6666666666666666, 0.6666666666666666, 0.6666666666666666], 6.666666666666667], 'standard deviation': [[2.449489742783178, 2.449489742783178, 2.449489742783178], [0.816496580927726, 0.816496580927726, 0.816496580927726], 2.581988897471611], 'max': [[6, 7, 8], [2, 5, 8], 8], 'min': [[0, 1, 2], [0, 3, 6], 0], 'sum': [[9, 12, 15], [3, 12, 21], 36]}\n"
     ]
    }
   ],
   "source": [
    "import numpy as np\n",
    "\n",
    "def calculate(lst):\n",
    "    if len(lst) != 9:\n",
    "        raise ValueError(\"List must contain nine numbers.\")\n",
    "    else:\n",
    "        # La consigna nos pide devolver un arreglo de numpy como si fuese una matriz 3x3.\n",
    "        arr = np.array(lst).reshape(3, 3)\n",
    "        \n",
    "        # Calcula todas las estadisticas en el eje 0 (Filas).\n",
    "        mean_axis_0 = np.mean(arr, axis=0)\n",
    "        variance_axis_0 = np.var(arr, axis=0)\n",
    "        std_dev_axis_0 = np.std(arr, axis=0)\n",
    "        max_axis_0 = np.max(arr, axis=0)\n",
    "        min_axis_0 = np.min(arr, axis=0)\n",
    "        sum_axis_0 = np.sum(arr, axis=0)\n",
    "        \n",
    "        # Calcula todas las estadisticas en el eje 1 (Columnas).\n",
    "        mean_axis_1 = np.mean(arr, axis=1)\n",
    "        variance_axis_1 = np.var(arr, axis=1)\n",
    "        std_dev_axis_1 = np.std(arr, axis=1)\n",
    "        max_axis_1 = np.max(arr, axis=1)\n",
    "        min_axis_1 = np.min(arr, axis=1)\n",
    "        sum_axis_1 = np.sum(arr, axis=1)\n",
    "        \n",
    "        # Aplanamos la matriz para poder operar sobre todos los elementos de la misma.\n",
    "        flattened_arr = arr.flatten()\n",
    "        mean_flattened = np.mean(flattened_arr)\n",
    "        variance_flattened = np.var(flattened_arr)\n",
    "        std_dev_flattened = np.std(flattened_arr)\n",
    "        max_flattened = np.max(flattened_arr)\n",
    "        min_flattened = np.min(flattened_arr)\n",
    "        sum_flattened = np.sum(flattened_arr)\n",
    "        \n",
    "        # Construimos el diccionario que se nos pide.\n",
    "        calculations = {\n",
    "            'mean': [mean_axis_0.tolist(), mean_axis_1.tolist(), mean_flattened],\n",
    "            'variance': [variance_axis_0.tolist(), variance_axis_1.tolist(), variance_flattened],\n",
    "            'standard deviation': [std_dev_axis_0.tolist(), std_dev_axis_1.tolist(), std_dev_flattened],\n",
    "            'max': [max_axis_0.tolist(), max_axis_1.tolist(), max_flattened],\n",
    "            'min': [min_axis_0.tolist(), min_axis_1.tolist(), min_flattened],\n",
    "            'sum': [sum_axis_0.tolist(), sum_axis_1.tolist(), sum_flattened]\n",
    "        }\n",
    "        return calculations\n",
    "\n",
    "# Ejemplo.\n",
    "result = calculate([0, 1, 2, 3, 4, 5, 6, 7, 8])\n",
    "print(result)"
   ]
  },
  {
   "cell_type": "code",
   "execution_count": null,
   "id": "a5b6f70d-0ae9-452b-a9ea-59fb8f0ea149",
   "metadata": {},
   "outputs": [],
   "source": []
  }
 ],
 "metadata": {
  "kernelspec": {
   "display_name": "Python 3 (ipykernel)",
   "language": "python",
   "name": "python3"
  },
  "language_info": {
   "codemirror_mode": {
    "name": "ipython",
    "version": 3
   },
   "file_extension": ".py",
   "mimetype": "text/x-python",
   "name": "python",
   "nbconvert_exporter": "python",
   "pygments_lexer": "ipython3",
   "version": "3.11.8"
  }
 },
 "nbformat": 4,
 "nbformat_minor": 5
}
